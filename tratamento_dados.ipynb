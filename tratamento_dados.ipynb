{
 "cells": [
  {
   "cell_type": "code",
   "execution_count": 1,
   "metadata": {},
   "outputs": [],
   "source": [
    "#imports\n",
    "\n",
    "%matplotlib inline\n",
    "import pandas as pd\n",
    "import numpy as np\n",
    "import matplotlib.pyplot as plt"
   ]
  },
  {
   "cell_type": "code",
   "execution_count": 11,
   "metadata": {},
   "outputs": [],
   "source": [
    "colnames = ['tipo_movimento'] + [item for pair in zip([\"{:02d}\".format(i) for i in range(24)\n",
    "data = pd.read_csv(\"basededados.txt\", header=None, names=colnames)"
   ]
  },
  {
   "cell_type": "code",
   "execution_count": 12,
   "metadata": {},
   "outputs": [
    {
     "data": {
      "text/html": [
       "<div>\n",
       "<style scoped>\n",
       "    .dataframe tbody tr th:only-of-type {\n",
       "        vertical-align: middle;\n",
       "    }\n",
       "\n",
       "    .dataframe tbody tr th {\n",
       "        vertical-align: top;\n",
       "    }\n",
       "\n",
       "    .dataframe thead th {\n",
       "        text-align: right;\n",
       "    }\n",
       "</style>\n",
       "<table border=\"1\" class=\"dataframe\">\n",
       "  <thead>\n",
       "    <tr style=\"text-align: right;\">\n",
       "      <th></th>\n",
       "      <th>movimento</th>\n",
       "    </tr>\n",
       "  </thead>\n",
       "  <tbody>\n",
       "    <tr>\n",
       "      <th>0</th>\n",
       "      <td>1 0.33333 0.29167 0.29167 0.27778 0.23611 0.22...</td>\n",
       "    </tr>\n",
       "    <tr>\n",
       "      <th>1</th>\n",
       "      <td>1 0.26389 0.25 0.25 0.26389 0.27778 0.26389 0....</td>\n",
       "    </tr>\n",
       "    <tr>\n",
       "      <th>2</th>\n",
       "      <td>1 0.30556 0.29167 0.25 0.25 0.22222 0.20833 0....</td>\n",
       "    </tr>\n",
       "    <tr>\n",
       "      <th>3</th>\n",
       "      <td>1 0.20833 0.16667 0.13889 0.15278 0.13889 0.11...</td>\n",
       "    </tr>\n",
       "    <tr>\n",
       "      <th>4</th>\n",
       "      <td>1 0.27778 0.27778 0.27778 0.26389 0.22222 0.19...</td>\n",
       "    </tr>\n",
       "    <tr>\n",
       "      <th>...</th>\n",
       "      <td>...</td>\n",
       "    </tr>\n",
       "    <tr>\n",
       "      <th>1195</th>\n",
       "      <td>12 0.56944 0.58333 0.61111 0.61111 0.625 0.666...</td>\n",
       "    </tr>\n",
       "    <tr>\n",
       "      <th>1196</th>\n",
       "      <td>12 0.38889 0.40278 0.45833 0.5 0.55556 0.58333...</td>\n",
       "    </tr>\n",
       "    <tr>\n",
       "      <th>1197</th>\n",
       "      <td>12 0.48611 0.5 0.52778 0.55556 0.59722 0.63889...</td>\n",
       "    </tr>\n",
       "    <tr>\n",
       "      <th>1198</th>\n",
       "      <td>12 0.58333 0.625 0.625 0.63889 0.65278 0.70833...</td>\n",
       "    </tr>\n",
       "    <tr>\n",
       "      <th>1199</th>\n",
       "      <td>12 0.47222 0.5 0.59722 0.625 0.66667 0.73611 0...</td>\n",
       "    </tr>\n",
       "  </tbody>\n",
       "</table>\n",
       "<p>1200 rows × 1 columns</p>\n",
       "</div>"
      ],
      "text/plain": [
       "                                              movimento\n",
       "0     1 0.33333 0.29167 0.29167 0.27778 0.23611 0.22...\n",
       "1     1 0.26389 0.25 0.25 0.26389 0.27778 0.26389 0....\n",
       "2     1 0.30556 0.29167 0.25 0.25 0.22222 0.20833 0....\n",
       "3     1 0.20833 0.16667 0.13889 0.15278 0.13889 0.11...\n",
       "4     1 0.27778 0.27778 0.27778 0.26389 0.22222 0.19...\n",
       "...                                                 ...\n",
       "1195  12 0.56944 0.58333 0.61111 0.61111 0.625 0.666...\n",
       "1196  12 0.38889 0.40278 0.45833 0.5 0.55556 0.58333...\n",
       "1197  12 0.48611 0.5 0.52778 0.55556 0.59722 0.63889...\n",
       "1198  12 0.58333 0.625 0.625 0.63889 0.65278 0.70833...\n",
       "1199  12 0.47222 0.5 0.59722 0.625 0.66667 0.73611 0...\n",
       "\n",
       "[1200 rows x 1 columns]"
      ]
     },
     "execution_count": 12,
     "metadata": {},
     "output_type": "execute_result"
    }
   ],
   "source": [
    "data"
   ]
  },
  {
   "cell_type": "code",
   "execution_count": null,
   "metadata": {},
   "outputs": [],
   "source": []
  }
 ],
 "metadata": {
  "kernelspec": {
   "display_name": "Python 3",
   "language": "python",
   "name": "python3"
  },
  "language_info": {
   "codemirror_mode": {
    "name": "ipython",
    "version": 3
   },
   "file_extension": ".py",
   "mimetype": "text/x-python",
   "name": "python",
   "nbconvert_exporter": "python",
   "pygments_lexer": "ipython3",
   "version": "3.8.2"
  }
 },
 "nbformat": 4,
 "nbformat_minor": 4
}
